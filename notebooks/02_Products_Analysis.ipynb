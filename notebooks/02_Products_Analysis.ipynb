{
 "cells": [
  {
   "cell_type": "code",
   "execution_count": 3,
   "metadata": {},
   "outputs": [],
   "source": [
    "import polars as pl"
   ]
  },
  {
   "cell_type": "code",
   "execution_count": 10,
   "metadata": {},
   "outputs": [
    {
     "name": "stdout",
     "output_type": "stream",
     "text": [
      "shape: (5, 7)\n",
      "┌──────────┬───────────────┬───────────────┬───────┬───────────────┬───────────────┬───────────────┐\n",
      "│ Category ┆ name          ┆ subtitle      ┆ price ┆ discount_pric ┆ main_image_ur ┆ secondary_ima │\n",
      "│ ---      ┆ ---           ┆ ---           ┆ ---   ┆ e             ┆ l             ┆ ge_url        │\n",
      "│ str      ┆ str           ┆ str           ┆ f32   ┆ ---           ┆ ---           ┆ ---           │\n",
      "│          ┆               ┆               ┆       ┆ str           ┆ str           ┆ str           │\n",
      "╞══════════╪═══════════════╪═══════════════╪═══════╪═══════════════╪═══════════════╪═══════════════╡\n",
      "│ Fruta    ┆ Plátano de    ┆ Pieza 170 g   ┆ 0.36  ┆ null          ┆ https://prod- ┆ https://prod- │\n",
      "│          ┆ Canarias IGP  ┆ aprox.        ┆       ┆               ┆ mercadona.img ┆ mercadona.img │\n",
      "│          ┆               ┆               ┆       ┆               ┆ ix.n…         ┆ ix.n…         │\n",
      "│ Fruta    ┆ Banana        ┆ Pieza 170 g   ┆ 0.25  ┆ null          ┆ https://prod- ┆ https://prod- │\n",
      "│          ┆               ┆ aprox.        ┆       ┆               ┆ mercadona.img ┆ mercadona.img │\n",
      "│          ┆               ┆               ┆       ┆               ┆ ix.n…         ┆ ix.n…         │\n",
      "│ Fruta    ┆ Plátano macho ┆ Pieza 300 g   ┆ 0.87  ┆ null          ┆ https://prod- ┆ https://prod- │\n",
      "│          ┆               ┆ aprox.        ┆       ┆               ┆ mercadona.img ┆ mercadona.img │\n",
      "│          ┆               ┆               ┆       ┆               ┆ ix.n…         ┆ ix.n…         │\n",
      "│ Fruta    ┆ Uva blanca    ┆ Bandeja 500 g ┆ 2.65  ┆ null          ┆ https://prod- ┆ https://prod- │\n",
      "│          ┆ sin semillas  ┆ aprox.        ┆       ┆               ┆ mercadona.img ┆ mercadona.img │\n",
      "│          ┆               ┆               ┆       ┆               ┆ ix.n…         ┆ ix.n…         │\n",
      "│ Fruta    ┆ Uva roja sin  ┆ Bandeja 500 g ┆ 2.65  ┆ null          ┆ https://prod- ┆ https://prod- │\n",
      "│          ┆ semillas      ┆ aprox.        ┆       ┆               ┆ mercadona.img ┆ mercadona.img │\n",
      "│          ┆               ┆               ┆       ┆               ┆ ix.n…         ┆ ix.n…         │\n",
      "└──────────┴───────────────┴───────────────┴───────┴───────────────┴───────────────┴───────────────┘\n"
     ]
    }
   ],
   "source": [
    "# Import products.csv\n",
    "products = pl.read_csv(\"../data/raw/products_macro.csv\")\n",
    "\n",
    "# Clean price column: Remove the € symbol, replace commas with periods, and convert to float\n",
    "products = products.with_columns(\n",
    "    pl.col(\"price\")\n",
    "    .str.replace(\"€\", \"\")  # Remove the € symbol\n",
    "    .str.replace(r\"[^\\d,.-]\", \"\")  # Remove any non-numeric characters except commas and dots\n",
    "    .str.replace(\",\", \".\")  # Replace commas with periods for decimal point consistency\n",
    "    .cast(pl.Float32)  # Convert to float\n",
    "    .alias(\"price\")\n",
    ")\n",
    "\n",
    "# Check the first 5 rows after cleaning\n",
    "print(products.head(5))\n"
   ]
  },
  {
   "cell_type": "code",
   "execution_count": 13,
   "metadata": {},
   "outputs": [
    {
     "name": "stdout",
     "output_type": "stream",
     "text": [
      "shape: (4_771, 7)\n",
      "┌──────────┬───────────────┬───────────────┬───────┬───────────────┬───────────────┬───────────────┐\n",
      "│ Category ┆ name          ┆ subtitle      ┆ price ┆ discount_pric ┆ main_image_ur ┆ secondary_ima │\n",
      "│ ---      ┆ ---           ┆ ---           ┆ ---   ┆ e             ┆ l             ┆ ge_url        │\n",
      "│ str      ┆ str           ┆ str           ┆ f32   ┆ ---           ┆ ---           ┆ ---           │\n",
      "│          ┆               ┆               ┆       ┆ str           ┆ str           ┆ str           │\n",
      "╞══════════╪═══════════════╪═══════════════╪═══════╪═══════════════╪═══════════════╪═══════════════╡\n",
      "│ Jamón    ┆ Jamón de      ┆ Pieza 9 kg    ┆ 391.5 ┆ null          ┆ https://prod- ┆ https://prod- │\n",
      "│ serrano  ┆ bellota       ┆ aprox.        ┆       ┆               ┆ mercadona.img ┆ mercadona.img │\n",
      "│          ┆ ibérico 50%   ┆               ┆       ┆               ┆ ix.n…         ┆ ix.n…         │\n",
      "│          ┆ L…            ┆               ┆       ┆               ┆               ┆               │\n",
      "│ Jamón    ┆ Jamón de      ┆ Pieza 7 kg    ┆ 374.5 ┆ null          ┆ https://prod- ┆ https://prod- │\n",
      "│ serrano  ┆ bellota       ┆ aprox.        ┆       ┆               ┆ mercadona.img ┆ mercadona.img │\n",
      "│          ┆ ibérico 100%  ┆               ┆       ┆               ┆ ix.n…         ┆ ix.n…         │\n",
      "│          ┆ …             ┆               ┆       ┆               ┆               ┆               │\n",
      "│ Jamón    ┆ Jamón de cebo ┆ Pieza 8,5 kg  ┆ 136.0 ┆ null          ┆ https://prod- ┆ https://prod- │\n",
      "│ serrano  ┆ ibérico La    ┆ aprox.        ┆       ┆               ┆ mercadona.img ┆ mercadona.img │\n",
      "│          ┆ Hacie…        ┆               ┆       ┆               ┆ ix.n…         ┆ ix.n…         │\n",
      "│ Jamón    ┆ Jamón curado  ┆ Pieza 8 kg    ┆ 75.0  ┆ null          ┆ https://prod- ┆ https://prod- │\n",
      "│ serrano  ┆ gran reserva  ┆ aprox.        ┆       ┆               ┆ mercadona.img ┆ mercadona.img │\n",
      "│          ┆ Navi…         ┆               ┆       ┆               ┆ ix.n…         ┆ ix.n…         │\n",
      "│ Embutido ┆ Caña de lomo  ┆ Pieza 1,6 kg  ┆ 64.0  ┆ null          ┆ https://prod- ┆ https://prod- │\n",
      "│ curado   ┆ cebo ibérico  ┆ aprox.        ┆       ┆               ┆ mercadona.img ┆ mercadona.img │\n",
      "│          ┆ La H…         ┆               ┆       ┆               ┆ ix.n…         ┆ ix.n…         │\n",
      "│ …        ┆ …             ┆ …             ┆ …     ┆ …             ┆ …             ┆ …             │\n",
      "│ Agua     ┆ Agua mineral  ┆ Botella 500   ┆ 0.22  ┆ null          ┆ https://prod- ┆ https://prod- │\n",
      "│          ┆ pequeña       ┆ ml            ┆       ┆               ┆ mercadona.img ┆ mercadona.img │\n",
      "│          ┆ Aguadoy       ┆               ┆       ┆               ┆ ix.n…         ┆ ix.n…         │\n",
      "│ Bollería ┆ Rollo con     ┆ 42 g aprox.   ┆ 0.21  ┆ null          ┆ https://prod- ┆ https://prod- │\n",
      "│ envasada ┆ sabor nata    ┆               ┆       ┆               ┆ mercadona.img ┆ mercadona.img │\n",
      "│          ┆ Hacendado     ┆               ┆       ┆               ┆ ix.n…         ┆ ix.n…         │\n",
      "│ Bollería ┆ Rollo con     ┆ 42 g aprox.   ┆ 0.21  ┆ null          ┆ https://prod- ┆ https://prod- │\n",
      "│ envasada ┆ sabor         ┆               ┆       ┆               ┆ mercadona.img ┆ mercadona.img │\n",
      "│          ┆ avellana      ┆               ┆       ┆               ┆ ix.n…         ┆ ix.n…         │\n",
      "│          ┆ Hacen…        ┆               ┆       ┆               ┆               ┆               │\n",
      "│ Bollería ┆ Rosquito      ┆ 40 g aprox.   ┆ 0.2   ┆ null          ┆ https://prod- ┆ https://prod- │\n",
      "│ envasada ┆ frito con     ┆               ┆       ┆               ┆ mercadona.img ┆ mercadona.img │\n",
      "│          ┆ azúcar Hace…  ┆               ┆       ┆               ┆ ix.n…         ┆ ix.n…         │\n",
      "│ Bollería ┆ Rosquillas al ┆ 37 g aprox.   ┆ 0.18  ┆ null          ┆ https://prod- ┆ https://prod- │\n",
      "│ envasada ┆ cacao         ┆               ┆       ┆               ┆ mercadona.img ┆ mercadona.img │\n",
      "│          ┆ Hacendado     ┆               ┆       ┆               ┆ ix.n…         ┆ ix.n…         │\n",
      "└──────────┴───────────────┴───────────────┴───────┴───────────────┴───────────────┴───────────────┘\n"
     ]
    }
   ],
   "source": [
    "print(products.sort(\"price\", descending=True))"
   ]
  }
 ],
 "metadata": {
  "kernelspec": {
   "display_name": ".venv",
   "language": "python",
   "name": "python3"
  },
  "language_info": {
   "codemirror_mode": {
    "name": "ipython",
    "version": 3
   },
   "file_extension": ".py",
   "mimetype": "text/x-python",
   "name": "python",
   "nbconvert_exporter": "python",
   "pygments_lexer": "ipython3",
   "version": "3.12.8"
  }
 },
 "nbformat": 4,
 "nbformat_minor": 2
}
