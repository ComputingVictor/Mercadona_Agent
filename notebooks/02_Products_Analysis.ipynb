{
 "cells": [
  {
   "cell_type": "code",
   "execution_count": 1,
   "metadata": {},
   "outputs": [],
   "source": [
    "import polars as pl"
   ]
  },
  {
   "cell_type": "code",
   "execution_count": 2,
   "metadata": {},
   "outputs": [
    {
     "name": "stdout",
     "output_type": "stream",
     "text": [
      "shape: (5, 7)\n",
      "┌──────────┬───────────────┬───────────────┬────────┬───────────────┬───────────────┬──────────────┐\n",
      "│ Category ┆ name          ┆ subtitle      ┆ price  ┆ discount_pric ┆ main_image_ur ┆ secondary_im │\n",
      "│ ---      ┆ ---           ┆ ---           ┆ ---    ┆ e             ┆ l             ┆ age_url      │\n",
      "│ str      ┆ str           ┆ str           ┆ str    ┆ ---           ┆ ---           ┆ ---          │\n",
      "│          ┆               ┆               ┆        ┆ str           ┆ str           ┆ str          │\n",
      "╞══════════╪═══════════════╪═══════════════╪════════╪═══════════════╪═══════════════╪══════════════╡\n",
      "│ Fruta    ┆ Plátano de    ┆ Pieza 170 g   ┆ 0,36 € ┆ null          ┆ https://prod- ┆ https://prod │\n",
      "│          ┆ Canarias IGP  ┆ aprox.        ┆        ┆               ┆ mercadona.img ┆ -mercadona.i │\n",
      "│          ┆               ┆               ┆        ┆               ┆ ix.n…         ┆ mgix.n…      │\n",
      "│ Fruta    ┆ Banana        ┆ Pieza 170 g   ┆ 0,25 € ┆ null          ┆ https://prod- ┆ https://prod │\n",
      "│          ┆               ┆ aprox.        ┆        ┆               ┆ mercadona.img ┆ -mercadona.i │\n",
      "│          ┆               ┆               ┆        ┆               ┆ ix.n…         ┆ mgix.n…      │\n",
      "│ Fruta    ┆ Plátano macho ┆ Pieza 300 g   ┆ 0,87 € ┆ null          ┆ https://prod- ┆ https://prod │\n",
      "│          ┆               ┆ aprox.        ┆        ┆               ┆ mercadona.img ┆ -mercadona.i │\n",
      "│          ┆               ┆               ┆        ┆               ┆ ix.n…         ┆ mgix.n…      │\n",
      "│ Fruta    ┆ Uva blanca    ┆ Bandeja 500 g ┆ 2,65 € ┆ null          ┆ https://prod- ┆ https://prod │\n",
      "│          ┆ sin semillas  ┆ aprox.        ┆        ┆               ┆ mercadona.img ┆ -mercadona.i │\n",
      "│          ┆               ┆               ┆        ┆               ┆ ix.n…         ┆ mgix.n…      │\n",
      "│ Fruta    ┆ Uva roja sin  ┆ Bandeja 500 g ┆ 2,65 € ┆ null          ┆ https://prod- ┆ https://prod │\n",
      "│          ┆ semillas      ┆ aprox.        ┆        ┆               ┆ mercadona.img ┆ -mercadona.i │\n",
      "│          ┆               ┆               ┆        ┆               ┆ ix.n…         ┆ mgix.n…      │\n",
      "└──────────┴───────────────┴───────────────┴────────┴───────────────┴───────────────┴──────────────┘\n"
     ]
    }
   ],
   "source": [
    "# Import products.csv\n",
    "products = pl.read_csv(\"../data/raw/products_macro.csv\")\n",
    "\n",
    "# Show the first 5 rows\n",
    "\n",
    "print(products.head(5))"
   ]
  },
  {
   "cell_type": "code",
   "execution_count": 47,
   "metadata": {},
   "outputs": [
    {
     "name": "stdout",
     "output_type": "stream",
     "text": [
      "shape: (4_766, 6)\n",
      "┌──────────────────┬─────────────────┬────────┬────────────────┬─────────────────┬─────────────────┐\n",
      "│ name             ┆ subtitle        ┆ price  ┆ discount_price ┆ main_image_url  ┆ Category        │\n",
      "│ ---              ┆ ---             ┆ ---    ┆ ---            ┆ ---             ┆ ---             │\n",
      "│ str              ┆ str             ┆ str    ┆ str            ┆ str             ┆ str             │\n",
      "╞══════════════════╪═════════════════╪════════╪════════════════╪═════════════════╪═════════════════╡\n",
      "│ Escalopines de   ┆ Bandeja 400 g   ┆ 9,98 € ┆ null           ┆ https://prod-me ┆ Pescado fresco  │\n",
      "│ salmón           ┆ aprox.          ┆        ┆                ┆ rcadona.imgix.n ┆                 │\n",
      "│                  ┆                 ┆        ┆                ┆ …               ┆                 │\n",
      "│ Patas de pulpo   ┆ Bandeja 250 g   ┆ 9,95 € ┆ null           ┆ https://prod-me ┆ Pescado fresco  │\n",
      "│ cocido           ┆ aprox.          ┆        ┆                ┆ rcadona.imgix.n ┆                 │\n",
      "│                  ┆                 ┆        ┆                ┆ …               ┆                 │\n",
      "│ Filetes lomo de  ┆ Bandeja 500 g   ┆ 9,75 € ┆ null           ┆ https://prod-me ┆ Vacuno          │\n",
      "│ vacuno añojo p…  ┆ aprox.          ┆        ┆                ┆ rcadona.imgix.n ┆                 │\n",
      "│                  ┆                 ┆        ┆                ┆ …               ┆                 │\n",
      "│ Vino blanco      ┆ Botella 750 ml  ┆ 9,75 € ┆ null           ┆ https://prod-me ┆ Vino blanco     │\n",
      "│ Chardonnay       ┆                 ┆        ┆                ┆ rcadona.imgix.n ┆                 │\n",
      "│ Barril …         ┆                 ┆        ┆                ┆ …               ┆                 │\n",
      "│ Café en grano    ┆ Paquete 1 kg    ┆ 9,55 € ┆ null           ┆ https://prod-me ┆ Café molido y   │\n",
      "│ extra fuerte     ┆                 ┆        ┆                ┆ rcadona.imgix.n ┆ en grano        │\n",
      "│ Hac…             ┆                 ┆        ┆                ┆ …               ┆                 │\n",
      "│ …                ┆ …               ┆ …      ┆ …              ┆ …               ┆ …               │\n",
      "│ Agua mineral     ┆ Botella 500 ml  ┆ 0,22 € ┆ null           ┆ https://prod-me ┆ Agua            │\n",
      "│ pequeña Cortes   ┆                 ┆        ┆                ┆ rcadona.imgix.n ┆                 │\n",
      "│                  ┆                 ┆        ┆                ┆ …               ┆                 │\n",
      "│ Rollo con sabor  ┆ 42 g aprox.     ┆ 0,21 € ┆ null           ┆ https://prod-me ┆ Bollería        │\n",
      "│ nata Hacendado   ┆                 ┆        ┆                ┆ rcadona.imgix.n ┆ envasada        │\n",
      "│                  ┆                 ┆        ┆                ┆ …               ┆                 │\n",
      "│ Rollo con sabor  ┆ 42 g aprox.     ┆ 0,21 € ┆ null           ┆ https://prod-me ┆ Bollería        │\n",
      "│ avellana Hacen…  ┆                 ┆        ┆                ┆ rcadona.imgix.n ┆ envasada        │\n",
      "│                  ┆                 ┆        ┆                ┆ …               ┆                 │\n",
      "│ Tomate pera      ┆ Pieza 110 g     ┆ 0,18 € ┆ null           ┆ https://prod-me ┆ Verdura         │\n",
      "│                  ┆ aprox.          ┆        ┆                ┆ rcadona.imgix.n ┆                 │\n",
      "│                  ┆                 ┆        ┆                ┆ …               ┆                 │\n",
      "│ Rosquillas al    ┆ 37 g aprox.     ┆ 0,18 € ┆ null           ┆ https://prod-me ┆ Bollería        │\n",
      "│ cacao Hacendado  ┆                 ┆        ┆                ┆ rcadona.imgix.n ┆ envasada        │\n",
      "│                  ┆                 ┆        ┆                ┆ …               ┆                 │\n",
      "└──────────────────┴─────────────────┴────────┴────────────────┴─────────────────┴─────────────────┘\n"
     ]
    }
   ],
   "source": [
    "# Show the products with high price desceding\n",
    "\n",
    "print(products.sort(\"price\", descending=True))\n"
   ]
  },
  {
   "cell_type": "code",
   "execution_count": 53,
   "metadata": {},
   "outputs": [
    {
     "name": "stdout",
     "output_type": "stream",
     "text": [
      "shape: (95, 6)\n",
      "┌──────────────────────┬────────────────┬───────┬────────────────┬─────────────────────┬───────────┐\n",
      "│ name                 ┆ subtitle       ┆ price ┆ discount_price ┆ main_image_url      ┆ Category  │\n",
      "│ ---                  ┆ ---            ┆ ---   ┆ ---            ┆ ---                 ┆ ---       │\n",
      "│ str                  ┆ str            ┆ f32   ┆ str            ┆ str                 ┆ str       │\n",
      "╞══════════════════════╪════════════════╪═══════╪════════════════╪═════════════════════╪═══════════╡\n",
      "│ Agua de colonia S3   ┆ Botella 750 ml ┆ 3.4   ┆ null           ┆ https://prod-mercad ┆ Perfume y │\n",
      "│ Classic fre…         ┆                ┆       ┆                ┆ ona.imgix.n…        ┆ colonia   │\n",
      "│ Eau de toilette      ┆ Frasco 300 ml  ┆ 2.35  ┆ null           ┆ https://prod-mercad ┆ Perfume y │\n",
      "│ mujer Deliplus…      ┆                ┆       ┆                ┆ ona.imgix.n…        ┆ colonia   │\n",
      "│ Eau de parfum mujer  ┆ Frasco 100 ml  ┆ 9.0   ┆ null           ┆ https://prod-mercad ┆ Perfume y │\n",
      "│ Rose Nude            ┆                ┆       ┆                ┆ ona.imgix.n…        ┆ colonia   │\n",
      "│ Eau de parfum mujer  ┆ Frasco 100 ml  ┆ 9.0   ┆ null           ┆ https://prod-mercad ┆ Perfume y │\n",
      "│ Elección             ┆                ┆       ┆                ┆ ona.imgix.n…        ┆ colonia   │\n",
      "│ Eau de toilette      ┆ Frasco 200 ml  ┆ 3.9   ┆ null           ┆ https://prod-mercad ┆ Perfume y │\n",
      "│ mujer 9.60 Spo…      ┆                ┆       ┆                ┆ ona.imgix.n…        ┆ colonia   │\n",
      "│ …                    ┆ …              ┆ …     ┆ …              ┆ …                   ┆ …         │\n",
      "│ Lote hombre My Soul  ┆ Caja 1 ud.     ┆ 13.0  ┆ null           ┆ https://prod-mercad ┆ Perfume y │\n",
      "│ Supreme              ┆                ┆       ┆                ┆ ona.imgix.n…        ┆ colonia   │\n",
      "│ Colonia corporal     ┆ Bote 200 ml    ┆ 4.0   ┆ null           ┆ https://prod-mercad ┆ Perfume y │\n",
      "│ infantil Disn…       ┆                ┆       ┆                ┆ ona.imgix.n…        ┆ colonia   │\n",
      "│ Colonia corporal     ┆ Bote 200 ml    ┆ 4.0   ┆ null           ┆ https://prod-mercad ┆ Perfume y │\n",
      "│ infantil Marv…       ┆                ┆       ┆                ┆ ona.imgix.n…        ┆ colonia   │\n",
      "│ Lote infantil Disney ┆ Caja 1 ud.     ┆ 11.5  ┆ null           ┆ https://prod-mercad ┆ Perfume y │\n",
      "│ Frozen               ┆                ┆       ┆                ┆ ona.imgix.n…        ┆ colonia   │\n",
      "│ Lote infantil        ┆ 1 ud.          ┆ 8.0   ┆ null           ┆ https://prod-mercad ┆ Perfume y │\n",
      "│ maquillaje Color…    ┆                ┆       ┆                ┆ ona.imgix.n…        ┆ colonia   │\n",
      "└──────────────────────┴────────────────┴───────┴────────────────┴─────────────────────┴───────────┘\n"
     ]
    }
   ],
   "source": [
    "# Check products with category Perfume y colonia\n",
    "\n",
    "print(products.filter(pl.col(\"Category\") == \"Perfume y colonia\"))\n"
   ]
  },
  {
   "cell_type": "code",
   "execution_count": 52,
   "metadata": {},
   "outputs": [
    {
     "name": "stdout",
     "output_type": "stream",
     "text": [
      "shape: (5, 6)\n",
      "┌────────────────┬──────────────────────┬───────┬────────────────┬──────────────────────┬──────────┐\n",
      "│ name           ┆ subtitle             ┆ price ┆ discount_price ┆ main_image_url       ┆ Category │\n",
      "│ ---            ┆ ---                  ┆ ---   ┆ ---            ┆ ---                  ┆ ---      │\n",
      "│ str            ┆ str                  ┆ f32   ┆ str            ┆ str                  ┆ str      │\n",
      "╞════════════════╪══════════════════════╪═══════╪════════════════╪══════════════════════╪══════════╡\n",
      "│ Plátano de     ┆ Pieza 170 g aprox.   ┆ 0.36  ┆ null           ┆ https://prod-mercado ┆ Fruta    │\n",
      "│ Canarias IGP   ┆                      ┆       ┆                ┆ na.imgix.n…          ┆          │\n",
      "│ Banana         ┆ Pieza 190 g aprox.   ┆ 0.28  ┆ null           ┆ https://prod-mercado ┆ Fruta    │\n",
      "│                ┆                      ┆       ┆                ┆ na.imgix.n…          ┆          │\n",
      "│ Plátano macho  ┆ Pieza 290 g aprox.   ┆ 0.84  ┆ null           ┆ https://prod-mercado ┆ Fruta    │\n",
      "│                ┆                      ┆       ┆                ┆ na.imgix.n…          ┆          │\n",
      "│ Uva blanca sin ┆ Bandeja 500 g aprox. ┆ 2.65  ┆ null           ┆ https://prod-mercado ┆ Fruta    │\n",
      "│ semillas       ┆                      ┆       ┆                ┆ na.imgix.n…          ┆          │\n",
      "│ Uva roja sin   ┆ Bandeja 500 g aprox. ┆ 2.65  ┆ null           ┆ https://prod-mercado ┆ Fruta    │\n",
      "│ semillas       ┆                      ┆       ┆                ┆ na.imgix.n…          ┆          │\n",
      "└────────────────┴──────────────────────┴───────┴────────────────┴──────────────────────┴──────────┘\n"
     ]
    }
   ],
   "source": [
    "# Clean price column: Remove the € symbol, replace commas with periods, and convert to float\n",
    "products = products.with_columns(\n",
    "    pl.col(\"price\")\n",
    "    .str.replace(\"€\", \"\")  # Remove the € symbol\n",
    "    .str.replace(r\"[^\\d,.-]\", \"\")  # Remove any non-numeric characters except commas and dots\n",
    "    .str.replace(\",\", \".\")  # Replace commas with periods for decimal point consistency\n",
    "    .cast(pl.Float32)  # Convert to float\n",
    "    .alias(\"price\")\n",
    ")\n",
    "\n",
    "# Check the first 5 rows after cleaning\n",
    "print(products.head(5))\n"
   ]
  },
  {
   "cell_type": "code",
   "execution_count": 51,
   "metadata": {},
   "outputs": [
    {
     "data": {
      "text/html": [
       "<div><style>\n",
       ".dataframe > thead > tr,\n",
       ".dataframe > tbody > tr {\n",
       "  text-align: right;\n",
       "  white-space: pre-wrap;\n",
       "}\n",
       "</style>\n",
       "<small>shape: (4_766, 6)</small><table border=\"1\" class=\"dataframe\"><thead><tr><th>name</th><th>subtitle</th><th>price</th><th>discount_price</th><th>main_image_url</th><th>Category</th></tr><tr><td>str</td><td>str</td><td>str</td><td>str</td><td>str</td><td>str</td></tr></thead><tbody><tr><td>&quot;Plátano de Canarias IGP&quot;</td><td>&quot;Pieza 170 g aprox.&quot;</td><td>&quot;0,36 €&quot;</td><td>null</td><td>&quot;https://prod-mercadona.imgix.n…</td><td>&quot;Fruta&quot;</td></tr><tr><td>&quot;Banana&quot;</td><td>&quot;Pieza 190 g aprox.&quot;</td><td>&quot;0,28 €&quot;</td><td>null</td><td>&quot;https://prod-mercadona.imgix.n…</td><td>&quot;Fruta&quot;</td></tr><tr><td>&quot;Plátano macho&quot;</td><td>&quot;Pieza 290 g aprox.&quot;</td><td>&quot;0,84 €&quot;</td><td>null</td><td>&quot;https://prod-mercadona.imgix.n…</td><td>&quot;Fruta&quot;</td></tr><tr><td>&quot;Uva blanca sin semillas&quot;</td><td>&quot;Bandeja 500 g aprox.&quot;</td><td>&quot;2,65 €&quot;</td><td>null</td><td>&quot;https://prod-mercadona.imgix.n…</td><td>&quot;Fruta&quot;</td></tr><tr><td>&quot;Uva roja sin semillas&quot;</td><td>&quot;Bandeja 500 g aprox.&quot;</td><td>&quot;2,65 €&quot;</td><td>null</td><td>&quot;https://prod-mercadona.imgix.n…</td><td>&quot;Fruta&quot;</td></tr><tr><td>&hellip;</td><td>&hellip;</td><td>&hellip;</td><td>&hellip;</td><td>&hellip;</td><td>&hellip;</td></tr><tr><td>&quot;Crema de calzado blanco autobr…</td><td>&quot;Bote 50 ml&quot;</td><td>&quot;0,95 €&quot;</td><td>null</td><td>&quot;https://prod-mercadona.imgix.n…</td><td>&quot;Utensilios de limpieza y calza…</td></tr><tr><td>&quot;Crema de calzado marrón autobr…</td><td>&quot;Bote 50 ml&quot;</td><td>&quot;0,95 €&quot;</td><td>null</td><td>&quot;https://prod-mercadona.imgix.n…</td><td>&quot;Utensilios de limpieza y calza…</td></tr><tr><td>&quot;Crema de calzado negro autobri…</td><td>&quot;Bote 50 ml&quot;</td><td>&quot;0,95 €&quot;</td><td>null</td><td>&quot;https://prod-mercadona.imgix.n…</td><td>&quot;Utensilios de limpieza y calza…</td></tr><tr><td>&quot;Esponja de calzado incoloro br…</td><td>&quot;1 ud.&quot;</td><td>&quot;1,75 €&quot;</td><td>null</td><td>&quot;https://prod-mercadona.imgix.n…</td><td>&quot;Utensilios de limpieza y calza…</td></tr><tr><td>&quot;Desodorante de calzado Bosque …</td><td>&quot;Spray 250 ml&quot;</td><td>&quot;2,95 €&quot;</td><td>null</td><td>&quot;https://prod-mercadona.imgix.n…</td><td>&quot;Utensilios de limpieza y calza…</td></tr></tbody></table></div>"
      ],
      "text/plain": [
       "shape: (4_766, 6)\n",
       "┌──────────────────┬─────────────────┬────────┬────────────────┬─────────────────┬─────────────────┐\n",
       "│ name             ┆ subtitle        ┆ price  ┆ discount_price ┆ main_image_url  ┆ Category        │\n",
       "│ ---              ┆ ---             ┆ ---    ┆ ---            ┆ ---             ┆ ---             │\n",
       "│ str              ┆ str             ┆ str    ┆ str            ┆ str             ┆ str             │\n",
       "╞══════════════════╪═════════════════╪════════╪════════════════╪═════════════════╪═════════════════╡\n",
       "│ Plátano de       ┆ Pieza 170 g     ┆ 0,36 € ┆ null           ┆ https://prod-me ┆ Fruta           │\n",
       "│ Canarias IGP     ┆ aprox.          ┆        ┆                ┆ rcadona.imgix.n ┆                 │\n",
       "│                  ┆                 ┆        ┆                ┆ …               ┆                 │\n",
       "│ Banana           ┆ Pieza 190 g     ┆ 0,28 € ┆ null           ┆ https://prod-me ┆ Fruta           │\n",
       "│                  ┆ aprox.          ┆        ┆                ┆ rcadona.imgix.n ┆                 │\n",
       "│                  ┆                 ┆        ┆                ┆ …               ┆                 │\n",
       "│ Plátano macho    ┆ Pieza 290 g     ┆ 0,84 € ┆ null           ┆ https://prod-me ┆ Fruta           │\n",
       "│                  ┆ aprox.          ┆        ┆                ┆ rcadona.imgix.n ┆                 │\n",
       "│                  ┆                 ┆        ┆                ┆ …               ┆                 │\n",
       "│ Uva blanca sin   ┆ Bandeja 500 g   ┆ 2,65 € ┆ null           ┆ https://prod-me ┆ Fruta           │\n",
       "│ semillas         ┆ aprox.          ┆        ┆                ┆ rcadona.imgix.n ┆                 │\n",
       "│                  ┆                 ┆        ┆                ┆ …               ┆                 │\n",
       "│ Uva roja sin     ┆ Bandeja 500 g   ┆ 2,65 € ┆ null           ┆ https://prod-me ┆ Fruta           │\n",
       "│ semillas         ┆ aprox.          ┆        ┆                ┆ rcadona.imgix.n ┆                 │\n",
       "│                  ┆                 ┆        ┆                ┆ …               ┆                 │\n",
       "│ …                ┆ …               ┆ …      ┆ …              ┆ …               ┆ …               │\n",
       "│ Crema de calzado ┆ Bote 50 ml      ┆ 0,95 € ┆ null           ┆ https://prod-me ┆ Utensilios de   │\n",
       "│ blanco autobr…   ┆                 ┆        ┆                ┆ rcadona.imgix.n ┆ limpieza y      │\n",
       "│                  ┆                 ┆        ┆                ┆ …               ┆ calza…          │\n",
       "│ Crema de calzado ┆ Bote 50 ml      ┆ 0,95 € ┆ null           ┆ https://prod-me ┆ Utensilios de   │\n",
       "│ marrón autobr…   ┆                 ┆        ┆                ┆ rcadona.imgix.n ┆ limpieza y      │\n",
       "│                  ┆                 ┆        ┆                ┆ …               ┆ calza…          │\n",
       "│ Crema de calzado ┆ Bote 50 ml      ┆ 0,95 € ┆ null           ┆ https://prod-me ┆ Utensilios de   │\n",
       "│ negro autobri…   ┆                 ┆        ┆                ┆ rcadona.imgix.n ┆ limpieza y      │\n",
       "│                  ┆                 ┆        ┆                ┆ …               ┆ calza…          │\n",
       "│ Esponja de       ┆ 1 ud.           ┆ 1,75 € ┆ null           ┆ https://prod-me ┆ Utensilios de   │\n",
       "│ calzado incoloro ┆                 ┆        ┆                ┆ rcadona.imgix.n ┆ limpieza y      │\n",
       "│ br…              ┆                 ┆        ┆                ┆ …               ┆ calza…          │\n",
       "│ Desodorante de   ┆ Spray 250 ml    ┆ 2,95 € ┆ null           ┆ https://prod-me ┆ Utensilios de   │\n",
       "│ calzado Bosque … ┆                 ┆        ┆                ┆ rcadona.imgix.n ┆ limpieza y      │\n",
       "│                  ┆                 ┆        ┆                ┆ …               ┆ calza…          │\n",
       "└──────────────────┴─────────────────┴────────┴────────────────┴─────────────────┴─────────────────┘"
      ]
     },
     "execution_count": 51,
     "metadata": {},
     "output_type": "execute_result"
    }
   ],
   "source": [
    "products"
   ]
  }
 ],
 "metadata": {
  "kernelspec": {
   "display_name": ".venv",
   "language": "python",
   "name": "python3"
  },
  "language_info": {
   "codemirror_mode": {
    "name": "ipython",
    "version": 3
   },
   "file_extension": ".py",
   "mimetype": "text/x-python",
   "name": "python",
   "nbconvert_exporter": "python",
   "pygments_lexer": "ipython3",
   "version": "3.11.4"
  }
 },
 "nbformat": 4,
 "nbformat_minor": 2
}
